{
 "cells": [
  {
   "cell_type": "code",
   "execution_count": 1,
   "metadata": {},
   "outputs": [],
   "source": [
    "# FIND THE POSITION\n",
    "def findpos(l,v):\n",
    "    (found,i)=(False,0)\n",
    "    while i<len(l):\n",
    "        if not found and l[i]==v:\n",
    "            (found,pos)=(True,i)\n",
    "        i+=1\n",
    "    if not found:\n",
    "        pos= -1\n",
    "    return(pos)\n",
    "        \n",
    "            "
   ]
  },
  {
   "cell_type": "code",
   "execution_count": 15,
   "metadata": {},
   "outputs": [
    {
     "data": {
      "text/plain": [
       "2"
      ]
     },
     "execution_count": 15,
     "metadata": {},
     "output_type": "execute_result"
    }
   ],
   "source": [
    "findpos([1,2,34,4,4,5],34)"
   ]
  },
  {
   "cell_type": "code",
   "execution_count": 6,
   "metadata": {},
   "outputs": [],
   "source": [
    "def findposi(l,v):\n",
    "    (found,i)=(False,0)\n",
    "    while i<len(l):\n",
    "        if not found and l[i]==v:\n",
    "            (found,pos)=(True,i)\n",
    "        i+=1\n",
    "    if not found:\n",
    "        pos= -1\n",
    "    return(pos)"
   ]
  },
  {
   "cell_type": "code",
   "execution_count": 14,
   "metadata": {},
   "outputs": [],
   "source": [
    "def findpos(l,v):\n",
    "    pos=-1\n",
    "    for i in range(len(l)):\n",
    "        if l[i]==v:\n",
    "            pos=i\n",
    "            break \n",
    "    return(pos)"
   ]
  },
  {
   "cell_type": "code",
   "execution_count": null,
   "metadata": {},
   "outputs": [],
   "source": []
  }
 ],
 "metadata": {
  "kernelspec": {
   "display_name": "Python 3",
   "language": "python",
   "name": "python3"
  },
  "language_info": {
   "codemirror_mode": {
    "name": "ipython",
    "version": 3
   },
   "file_extension": ".py",
   "mimetype": "text/x-python",
   "name": "python",
   "nbconvert_exporter": "python",
   "pygments_lexer": "ipython3",
   "version": "3.7.4"
  }
 },
 "nbformat": 4,
 "nbformat_minor": 2
}
