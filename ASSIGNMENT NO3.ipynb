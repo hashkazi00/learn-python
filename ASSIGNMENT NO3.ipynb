{
 "cells": [
  {
   "cell_type": "code",
   "execution_count": 7,
   "metadata": {},
   "outputs": [],
   "source": [
    "def remdump(l):\n",
    "    for i in range(len(l)-1):\n",
    "        \n",
    "        for j in range(i+1,len(l)-1):\n",
    "            if l[i]==l[j]:\n",
    "                l.remove(l[j])\n",
    "    return(l)"
   ]
  },
  {
   "cell_type": "code",
   "execution_count": 28,
   "metadata": {},
   "outputs": [
    {
     "name": "stdout",
     "output_type": "stream",
     "text": [
      "0\n",
      "None\n"
     ]
    },
    {
     "data": {
      "text/plain": [
       "[1, 2, 2, 3, 4, 5, 5, 8, 90, 1, 'V']"
      ]
     },
     "execution_count": 28,
     "metadata": {},
     "output_type": "execute_result"
    }
   ],
   "source": [
    "l=[1,2,2,3,4,5,5,8,90,1]\n",
    "print(l.index(1))\n",
    "print(l.append(\"V\"))\n",
    "l"
   ]
  },
  {
   "cell_type": "code",
   "execution_count": 14,
   "metadata": {},
   "outputs": [],
   "source": [
    "def remdump(l):\n",
    "    for i in l:\n",
    "        for j in range(1,len(l)-1):\n",
    "            if i==l[j]:\n",
    "                l.remove(i)\n",
    "    return(l)"
   ]
  },
  {
   "cell_type": "code",
   "execution_count": null,
   "metadata": {},
   "outputs": [],
   "source": [
    "def remdump(l):\n",
    "    for i in range(len(l)):\n",
    "        \n",
    "        for j in range(len(l)):\n",
    "            if i==j:\n",
    "                "
   ]
  },
  {
   "cell_type": "code",
   "execution_count": 16,
   "metadata": {},
   "outputs": [],
   "source": [
    "def sumsquare(l):\n",
    "    even=0\n",
    "    odd=0\n",
    "    for i in l:\n",
    "        if i%2==0:\n",
    "            even+=i**2\n",
    "        else:\n",
    "            odd+=i**2\n",
    "    return([even,odd ])"
   ]
  },
  {
   "cell_type": "code",
   "execution_count": 18,
   "metadata": {},
   "outputs": [
    {
     "data": {
      "text/plain": [
       "[20, 35]"
      ]
     },
     "execution_count": 18,
     "metadata": {},
     "output_type": "execute_result"
    }
   ],
   "source": [
    "sumsquare([1,2,3,4,5])"
   ]
  },
  {
   "cell_type": "code",
   "execution_count": 31,
   "metadata": {},
   "outputs": [],
   "source": [
    "def remdump(l):\n",
    "    l2=[]\n",
    "    for i in l:\n",
    "        l.remove(i)\n",
    "        for j in l:\n",
    "            if i==j:\n",
    "                l.remove(j)\n",
    "        l2.append(i)\n",
    "    return(l2)"
   ]
  },
  {
   "cell_type": "code",
   "execution_count": 36,
   "metadata": {},
   "outputs": [
    {
     "data": {
      "text/plain": [
       "[1, 2, 3, 4, 5, 8, 90]"
      ]
     },
     "execution_count": 36,
     "metadata": {},
     "output_type": "execute_result"
    }
   ],
   "source": [
    "remdum([1,2,2,3,4,5,5,8,90,1])"
   ]
  },
  {
   "cell_type": "code",
   "execution_count": null,
   "metadata": {},
   "outputs": [],
   "source": [
    "def remdum(l):\n",
    "for i in range(len(l)):\n",
    "    l1=[i+1:]\n",
    "    l2=[]\n",
    "    if l[i] in l1:\n",
    "        l1.remove(l[i])\n",
    "        \n",
    "    \n",
    "        "
   ]
  },
  {
   "cell_type": "code",
   "execution_count": 35,
   "metadata": {},
   "outputs": [],
   "source": [
    "def remdum(l):\n",
    "    l2=[]\n",
    "    for i in l:\n",
    "        for j in l:\n",
    "            if (i==j) and j not in l2:\n",
    "                l2.append(i)\n",
    "    return(l2)"
   ]
  },
  {
   "cell_type": "code",
   "execution_count": 19,
   "metadata": {},
   "outputs": [],
   "source": [
    "import array\n",
    "t=[[1,2,3],[3,2,1]]"
   ]
  },
  {
   "cell_type": "code",
   "execution_count": 20,
   "metadata": {},
   "outputs": [
    {
     "name": "stdout",
     "output_type": "stream",
     "text": [
      "[[1, 2, 3], [3, 2, 1]]\n"
     ]
    }
   ],
   "source": [
    "tm=t[2:][2:]\n",
    "print(t)\n",
    "                "
   ]
  },
  {
   "cell_type": "code",
   "execution_count": 10,
   "metadata": {},
   "outputs": [],
   "source": [
    "def t_pose(t):\n",
    "    tm=[]\n",
    "    for i in range(len(t)):\n",
    "        for j in range(len(t[i])):\n",
    "            tm[i][j]=t[i][j]\n",
    "    return(tm)\n",
    "    "
   ]
  },
  {
   "cell_type": "code",
   "execution_count": 51,
   "metadata": {},
   "outputs": [
    {
     "data": {
      "text/plain": [
       "[1, 3, 2, 2, 3, 1]"
      ]
     },
     "execution_count": 51,
     "metadata": {},
     "output_type": "execute_result"
    }
   ],
   "source": [
    "t_pose(t)"
   ]
  },
  {
   "cell_type": "code",
   "execution_count": 24,
   "metadata": {},
   "outputs": [
    {
     "data": {
      "text/plain": [
       "2"
      ]
     },
     "execution_count": 24,
     "metadata": {},
     "output_type": "execute_result"
    }
   ],
   "source": [
    "len(t)"
   ]
  },
  {
   "cell_type": "code",
   "execution_count": 18,
   "metadata": {},
   "outputs": [
    {
     "name": "stdout",
     "output_type": "stream",
     "text": [
      "0\n",
      "1\n"
     ]
    }
   ],
   "source": []
  },
  {
   "cell_type": "code",
   "execution_count": 49,
   "metadata": {},
   "outputs": [],
   "source": [
    "def t_pose(t):\n",
    "    tm=[]\n",
    "    for i in range(len(t[0])):\n",
    "        l=[]\n",
    "        for j in range(len(t)):\n",
    "            tm.append(t[j][i])\n",
    "    return(tm)"
   ]
  },
  {
   "cell_type": "code",
   "execution_count": 26,
   "metadata": {},
   "outputs": [],
   "source": [
    "def t_pose(t):\n",
    "    tm=[]\n",
    "    result = [[t[j][i] for j in range(len(t))] for i in range(len(t[0]))]\n",
    "    for r in result:\n",
    "       tm.append(r)\n",
    "    return(tm)"
   ]
  },
  {
   "cell_type": "code",
   "execution_count": 1,
   "metadata": {},
   "outputs": [],
   "source": [
    "def transpose(l):\n",
    "  outl = []\n",
    "  for row in l[:1]:\n",
    "    for i in range(len(row)):\n",
    "      outl.append([])\n",
    "  for row in l:   \n",
    "    for i in range(len(row)):\n",
    "      outl[i].append(row[i])\n",
    "  return(outl)\n",
    "import ast"
   ]
  },
  {
   "cell_type": "code",
   "execution_count": null,
   "metadata": {},
   "outputs": [],
   "source": []
  }
 ],
 "metadata": {
  "kernelspec": {
   "display_name": "Python 3",
   "language": "python",
   "name": "python3"
  },
  "language_info": {
   "codemirror_mode": {
    "name": "ipython",
    "version": 3
   },
   "file_extension": ".py",
   "mimetype": "text/x-python",
   "name": "python",
   "nbconvert_exporter": "python",
   "pygments_lexer": "ipython3",
   "version": "3.7.4"
  }
 },
 "nbformat": 4,
 "nbformat_minor": 2
}
