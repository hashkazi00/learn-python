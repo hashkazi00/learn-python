{
 "cells": [
  {
   "cell_type": "code",
   "execution_count": 5,
   "metadata": {},
   "outputs": [],
   "source": [
    "def repfree(s):\n",
    "    l=[]\n",
    "    for i in s:\n",
    "        l.append(i)\n",
    "    j=len(l)\n",
    "    k=len(set(l))\n",
    "    if k==j:\n",
    "        return(True)\n",
    "    else:\n",
    "        return(False)\n",
    "        \n",
    "        "
   ]
  },
  {
   "cell_type": "code",
   "execution_count": 85,
   "metadata": {},
   "outputs": [],
   "source": [
    "def ascending(l):#mine\n",
    "    if len(l) <= 1:\n",
    "        return(True)\n",
    "    else:\n",
    "        return(l[0]<l[1] and ascending(l[1:]))\n",
    "    \n",
    "def descending(l):\n",
    "    if len(l)<=1:\n",
    "        return(True)\n",
    "    else:\n",
    "        return(l[0]>l[1] and descending(l[1:]))\n",
    "def hill(l):#mine\n",
    "    for i in range(1,len(l)-1):\n",
    "        if ascending(l[:i+1]) and descending(l[i:]):#if ascending(l[:i+1]) and descending(l[i:]):\n",
    "            return(True)\n",
    "    return(False)"
   ]
  },
  {
   "cell_type": "code",
   "execution_count": 67,
   "metadata": {},
   "outputs": [],
   "source": [
    "def ascending(l):\n",
    "    if len(l) <= 1:\n",
    "        return(True)\n",
    "    else:\n",
    "        return(l[0] < l[1] and ascending(l[1:])) #recusively checks whether the first and second index satisfies and then splices the list to remove the first indexed digit.\n",
    "\n",
    "def descending(l):\n",
    "    if len(l) <= 1:\n",
    "        return(True)\n",
    "    else:\n",
    "        return(l[0] > l[1] and descending(l[1:]))\n",
    "\n",
    "def hill(l):\n",
    "    for i in range(1,len(l)-1):\n",
    "        if ascending(l[:i+1]) and descending(l[i:]):\n",
    "            return(True)\n",
    "    return(False)"
   ]
  },
  {
   "cell_type": "code",
   "execution_count": 76,
   "metadata": {},
   "outputs": [],
   "source": [
    "def descending(l):\n",
    "    if len(l)<=1:\n",
    "        return(True)\n",
    "    else:\n",
    "        return(l[0]>l[1] and descending(l[1:]))"
   ]
  },
  {
   "cell_type": "code",
   "execution_count": 78,
   "metadata": {},
   "outputs": [],
   "source": [
    "def hill(l):#mine\n",
    "    for i in range(1,len(l)-1):\n",
    "        if ascending(l[:i+1]) and descending(l[i:]):#if ascending(l[:i+1]) and descending(l[i:]):\n",
    "            return(True)\n",
    "        return(False)"
   ]
  },
  {
   "cell_type": "code",
   "execution_count": null,
   "metadata": {},
   "outputs": [],
   "source": [
    "def hill(l):\n",
    "    for i in range(1,len(l)-1):#recusively checks whether the first and second index satisfies and then splices the list to remove the first indexed digit. # range from 1 to one less than the lists length to avoid going out of bounds in if statement.\n",
    "        if ascending(l[:i+1]) and descending(l[i:]): #splice used to break the list in asc and desc by recurrsively checking.\n",
    "            return(True)\n",
    "    return(False)"
   ]
  },
  {
   "cell_type": "code",
   "execution_count": 83,
   "metadata": {},
   "outputs": [
    {
     "data": {
      "text/plain": [
       "True"
      ]
     },
     "execution_count": 83,
     "metadata": {},
     "output_type": "execute_result"
    }
   ],
   "source": [
    "hill([1,2,35,3,2,1])"
   ]
  },
  {
   "cell_type": "code",
   "execution_count": null,
   "metadata": {},
   "outputs": [],
   "source": []
  },
  {
   "cell_type": "code",
   "execution_count": 7,
   "metadata": {},
   "outputs": [
    {
     "data": {
      "text/plain": [
       "False"
      ]
     },
     "execution_count": 7,
     "metadata": {},
     "output_type": "execute_result"
    }
   ],
   "source": [
    "repfree(\"shhil\")"
   ]
  },
  {
   "cell_type": "code",
   "execution_count": 1,
   "metadata": {},
   "outputs": [],
   "source": [
    "def hillvalley(A):\n",
    "    if len(A)<3: return\n",
    "    p1,p2,p3 = A[:3]\n",
    "    for p in A[3:]:\n",
    "        if p==p3 : continue\n",
    "        if  p1==p2 or (p1>p2) == (p2>p3):\n",
    "            p1,p2,p3 = p2,p3,p\n",
    "        elif (p3>p) == (p2>p3) :\n",
    "            p3=p\n",
    "        else: return\n",
    "    if p1==p2 or p2==p3:   return\n",
    "    if (p1<p2) != (p2>p3): return\n",
    "    return \"Valley\" if p1>p2 else \"Hill\""
   ]
  },
  {
   "cell_type": "code",
   "execution_count": 23,
   "metadata": {},
   "outputs": [],
   "source": [
    "def hillvalley(l):\n",
    "    g=[]\n",
    "    if (len(l) < 3):\n",
    "        return False\n",
    "    elif len(l) > 3:\n",
    "        for i in range(0,len(l)-1):\n",
    "            if l[i]>l[i+1]:\n",
    "                g.append(l[i])\n",
    "    return(g)\n",
    "                "
   ]
  },
  {
   "cell_type": "code",
   "execution_count": 37,
   "metadata": {},
   "outputs": [
    {
     "data": {
      "text/plain": [
       "True"
      ]
     },
     "execution_count": 37,
     "metadata": {},
     "output_type": "execute_result"
    }
   ],
   "source": [
    "hillvalley([2,1,3])"
   ]
  },
  {
   "cell_type": "code",
   "execution_count": 49,
   "metadata": {},
   "outputs": [
    {
     "name": "stdout",
     "output_type": "stream",
     "text": [
      "(1, 4, 7)\n",
      "(2, 5, 8)\n",
      "(3, 6, 9)\n",
      "(None, 10, 10)\n"
     ]
    }
   ],
   "source": [
    "from itertools import zip_longest\n",
    "a = [1,2,3]\n",
    "b = [4,5,6, 10]\n",
    "c = [7,8,9, 10]\n",
    "for i in zip_longest(a,b,c):\n",
    "    print(i)"
   ]
  },
  {
   "cell_type": "code",
   "execution_count": 13,
   "metadata": {},
   "outputs": [],
   "source": [
    "def valley(l):\n",
    "    \n",
    "    if (len(l) < 3): #understood\n",
    "        return False \n",
    "    \n",
    "    ucount = 1\n",
    "    \n",
    "    lcount = 1\n",
    "    \n",
    "    for i in range(0, len(l) - 1):\n",
    "        \n",
    "        if l[i] > l[i + 1] : \n",
    "            if lcount > 1:\n",
    "                return False\n",
    "            ucount = ucount + 1\n",
    "            \n",
    "        else:\n",
    "            if l[i] < l[i + 1] : \n",
    "                ucount = ucount + 1\n",
    "   \n",
    "            \n",
    "    if ucount >1 and lcount > 1:\n",
    "        return True\n",
    "    \n",
    "    else:\n",
    "        return False\n",
    "    \n",
    "    "
   ]
  },
  {
   "cell_type": "code",
   "execution_count": 51,
   "metadata": {},
   "outputs": [],
   "source": [
    "a=(5.74895+7j)"
   ]
  },
  {
   "cell_type": "code",
   "execution_count": 30,
   "metadata": {},
   "outputs": [],
   "source": [
    "def valley(l):\n",
    "    if len(l)<3:\n",
    "        return False\n",
    "    \n",
    "    ac=0\n",
    "    dc=0\n",
    "    \n",
    "    for i in range(0,len(l)-1):\n",
    "        \n",
    "        if l[i] > l[i + 1]:\n",
    "            if ac>0:\n",
    "                return False\n",
    "            dc+=1\n",
    "            \n",
    "        if l[i] < l[i + 1]:\n",
    "            ac+=1\n",
    "            \n",
    "    if ac >0 and dc > 0:\n",
    "        return True\n",
    "    else:\n",
    "        return False\n",
    "    \n",
    "def hill(l):\n",
    "    \n",
    "    if len(l)<3:\n",
    "        return False\n",
    "    \n",
    "    ac=0\n",
    "    dc=0\n",
    "    \n",
    "    for i in range(0,len(l)-1):\n",
    "        \n",
    "        if l[i] < l[i + 1]:\n",
    "            dc+=1\n",
    "            \n",
    "        if l[i] > l[i + 1]:\n",
    "            if dc>0:\n",
    "                return False\n",
    "            ac+=1\n",
    "            \n",
    "    if ac >0 and dc > 0:\n",
    "        return True\n",
    "    else:\n",
    "        return False\n",
    "    \n",
    "def hillvalley(l):\n",
    "    if hill or valley:\n",
    "        return True\n",
    "    else:\n",
    "        return False"
   ]
  },
  {
   "cell_type": "code",
   "execution_count": null,
   "metadata": {},
   "outputs": [],
   "source": []
  },
  {
   "cell_type": "code",
   "execution_count": 17,
   "metadata": {},
   "outputs": [],
   "source": [
    "def valley(l):\n",
    "  if(len(l)<3):\n",
    "    return(False)\n",
    "  for i in range(0,len(l)-1):\n",
    "    if(l[i]<l[i+1]):\n",
    "      for i in range(i,len(l)-1):\n",
    "        if(l[i]>=l[i+1]):\n",
    "          return(False)\n",
    "      return(True)\n",
    "    elif(l[i]==l[i+1]):\n",
    "      return(False) \n",
    "    else:\n",
    "      return(False)\n"
   ]
  },
  {
   "cell_type": "code",
   "execution_count": null,
   "metadata": {},
   "outputs": [],
   "source": [
    "def threesquares(m):\n",
    "    l=[]\n",
    "    for i in range(0,m+1):\n",
    "        for j in range(0,m+1):\n",
    "            k=(4**i)*((8*j)+7)\n",
    "            l.append(k)\n",
    "    if m not in l:\n",
    "        return(True)\n",
    "    else:\n",
    "        return(False)\n",
    "      \n",
    "def repfree(s):\n",
    "    l=[]\n",
    "    for i in s:\n",
    "        l.append(i)\n",
    "    j=len(l)\n",
    "    k=len(set(l))\n",
    "    if k==j:\n",
    "        return(True)\n",
    "    else:\n",
    "        return(False)"
   ]
  },
  {
   "cell_type": "code",
   "execution_count": 32,
   "metadata": {},
   "outputs": [],
   "source": [
    "def ascending(l):\n",
    "    if len(l) <= 1:\n",
    "        return(True)\n",
    "    else:\n",
    "        return(l[0] < l[1] and ascending(l[1:])) #recusively checks whether the first and second index satisfies and then splices the list to remove the first indexed digit.\n",
    "\n",
    "def descending(l):\n",
    "    if len(l) <= 1:\n",
    "        return(True)\n",
    "    else:\n",
    "        return(l[0] > l[1] and descending(l[1:]))\n",
    "\n",
    "def hill(l):\n",
    "    for i in range(1,len(l)-1):\n",
    "        if ascending(l[:i+1]) and descending(l[i:]):\n",
    "            return(True)\n",
    "    return(False)\n",
    "\n",
    "def valley(l):\n",
    "    for i in range(1,len(l)-1):\n",
    "        if descending(l[:i+1]) and ascending(l[i:]):\n",
    "            return(True)\n",
    "    return(False)\n",
    "\n",
    "def hillvalley(l):\n",
    "    return(hill(l) or valley(l))"
   ]
  },
  {
   "cell_type": "code",
   "execution_count": 38,
   "metadata": {},
   "outputs": [],
   "source": [
    "def ascending(l):\n",
    "    if len(l) <= 1:\n",
    "        return(True)\n",
    "    else:\n",
    "        return(l[0] < l[1] and ascending(l[1:])) #recusively checks whether the first and second index satisfies and then splices the list to remove the first indexed digit."
   ]
  },
  {
   "cell_type": "code",
   "execution_count": 40,
   "metadata": {},
   "outputs": [
    {
     "data": {
      "text/plain": [
       "False"
      ]
     },
     "execution_count": 40,
     "metadata": {},
     "output_type": "execute_result"
    }
   ],
   "source": [
    "ascending([1,5,3])"
   ]
  },
  {
   "cell_type": "code",
   "execution_count": 41,
   "metadata": {},
   "outputs": [],
   "source": [
    "def descending(l):\n",
    "    if len(l) <= 1: \n",
    "        return(True)\n",
    "    else:\n",
    "        return(l[0] > l[1] and descending(l[1:])) #recusively checks whether the first and second index satisfies and then splices the list to remove the first indexed digit."
   ]
  },
  {
   "cell_type": "code",
   "execution_count": 44,
   "metadata": {},
   "outputs": [
    {
     "data": {
      "text/plain": [
       "True"
      ]
     },
     "execution_count": 44,
     "metadata": {},
     "output_type": "execute_result"
    }
   ],
   "source": [
    "descending([3,1])"
   ]
  },
  {
   "cell_type": "code",
   "execution_count": 45,
   "metadata": {},
   "outputs": [],
   "source": [
    "def hill(l):\n",
    "    for i in range(1,len(l)-1):#recusively checks whether the first and second index satisfies and then splices the list to remove the first indexed digit. # range from 1 to one less than the lists length to avoid going out of bounds in if statement.\n",
    "        if ascending(l[:i+1]) and descending(l[i:]): #splice used to break the list in asc and desc by recurrsively checking.\n",
    "            return(True)\n",
    "    return(False)"
   ]
  },
  {
   "cell_type": "code",
   "execution_count": 46,
   "metadata": {},
   "outputs": [],
   "source": [
    "def valley(l):\n",
    "    for i in range(1,len(l)-1):\n",
    "        if descending(l[:i+1]) and ascending(l[i:]):\n",
    "            return(True)\n",
    "    return(False)"
   ]
  },
  {
   "cell_type": "code",
   "execution_count": 47,
   "metadata": {},
   "outputs": [],
   "source": [
    "def hillvalley(l):\n",
    "    return(hill(l) or valley(l))"
   ]
  },
  {
   "cell_type": "code",
   "execution_count": null,
   "metadata": {},
   "outputs": [],
   "source": []
  }
 ],
 "metadata": {
  "kernelspec": {
   "display_name": "Python 3",
   "language": "python",
   "name": "python3"
  },
  "language_info": {
   "codemirror_mode": {
    "name": "ipython",
    "version": 3
   },
   "file_extension": ".py",
   "mimetype": "text/x-python",
   "name": "python",
   "nbconvert_exporter": "python",
   "pygments_lexer": "ipython3",
   "version": "3.7.4"
  }
 },
 "nbformat": 4,
 "nbformat_minor": 2
}
